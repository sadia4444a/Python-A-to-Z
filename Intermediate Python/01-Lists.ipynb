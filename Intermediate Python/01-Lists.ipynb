{
 "cells": [
  {
   "cell_type": "markdown",
   "metadata": {},
   "source": [
    "### Lists\n",
    "\n",
    "What is a List?\n",
    "\n",
    "In Python, a list is a collection of items that are ordered and changeable. Lists are one of the most commonly used data structures because they are versatile and easy to work with. They can contain elements of different data types, such as integers, floats, strings, or even other lists!\n",
    "\n",
    "List is a collection data type which is ordered and mutable. Unlike Sets, Lists allow duplicate elements. They are useful for preserving a sequence of data and further iterating over it. Lists are created with square brackets.\n",
    "\n",
    "my_list = [\"banana\", \"cherry\", \"apple\"]\n",
    "\n",
    "### Comparison of basic built-in collection data types in Python:\n",
    "\n",
    "1. List is a collection which is ordered and mutable. Allows duplicate members.\n",
    "2. Tuple is a collection which is ordered and immutable. Allows duplicate members.\n",
    "3. Set is a collection which is unordered and unindexed. No duplicate members.\n",
    "4. Dictionary is a collection which is unordered, mutable and indexed. No duplicate members.\n",
    "5. Strings are immutable sequences of Unicode code points.\n"
   ]
  },
  {
   "cell_type": "markdown",
   "metadata": {},
   "source": [
    "#### Creating a list\n",
    "lists are created with square brackets or the built-in list function"
   ]
  },
  {
   "cell_type": "code",
   "execution_count": 2,
   "metadata": {},
   "outputs": [
    {
     "name": "stdout",
     "output_type": "stream",
     "text": [
      "['banana', 'cherry', 'apple']\n",
      "[]\n",
      "[0, 0, 1, 1]\n"
     ]
    }
   ],
   "source": [
    "list_1=['banana', 'cherry' , 'apple']\n",
    "print(list_1)\n",
    "\n",
    "#create a empty list with the list fiunction\n",
    "list_2=list()\n",
    "print(list_2)\n",
    "\n",
    "#list allow different data types\n",
    "list_3=[5, True, 'apple']\n",
    "\n",
    "#list allow duplicates\n",
    "list_4=[0,0,1,1]\n",
    "print(list_4)"
   ]
  },
  {
   "cell_type": "markdown",
   "metadata": {},
   "source": [
    "#### Access elements\n",
    "\n",
    "You access the list items by referring to the index number. Note that the indices start at 0."
   ]
  },
  {
   "cell_type": "code",
   "execution_count": 11,
   "metadata": {},
   "outputs": [
    {
     "name": "stdout",
     "output_type": "stream",
     "text": [
      "banana\n",
      "apple\n"
     ]
    }
   ],
   "source": [
    "item=list_1[0]\n",
    "print(item)\n",
    "\n",
    "# You can also use negative indexing, e.g -1 refers to the last item,\n",
    "# -2 to the second last item, and so on\n",
    "\n",
    "item2=list_1[-1]\n",
    "print(item2)"
   ]
  },
  {
   "cell_type": "markdown",
   "metadata": {},
   "source": [
    "#### Change items\n",
    "\n",
    "Just refer to the index number and assign a new value.\n",
    "Lists are mutable, meaning you can change their content without changing their identity\n",
    "\n"
   ]
  },
  {
   "cell_type": "code",
   "execution_count": 14,
   "metadata": {},
   "outputs": [
    {
     "name": "stdout",
     "output_type": "stream",
     "text": [
      "['banana', 'cherry', 'lemon']\n"
     ]
    }
   ],
   "source": [
    "# Lists can be altered after their creation\n",
    "list_1[2]='lemon'\n",
    "print(list_1)"
   ]
  },
  {
   "cell_type": "markdown",
   "metadata": {},
   "source": [
    "#### Useful Methods\n",
    "Have a look at the Python Documentation to see all list methods: https://docs.python.org/3/tutorial/datastructures.html"
   ]
  },
  {
   "cell_type": "code",
   "execution_count": 42,
   "metadata": {},
   "outputs": [
    {
     "name": "stdout",
     "output_type": "stream",
     "text": [
      "Length: 3\n",
      "['banana', 'cherry', 'apple', 'orange']\n",
      "['banana', 'blueberry', 'cherry', 'apple', 'orange']\n",
      "Popped item:  orange\n",
      "Popped item from 1:  blueberry\n",
      "['banana', 'apple']\n",
      "[]\n"
     ]
    }
   ],
   "source": [
    "my_list=['banana', 'cherry','apple']\n",
    "# len() : get the number of elements in a list\n",
    "print(\"Length:\", len(my_list))\n",
    "\n",
    "\n",
    "# append() : adds an element to the end of the list\n",
    "my_list.append(\"orange\" )\n",
    "print(my_list)\n",
    "\n",
    "# insert() : adds an element at the specified position\n",
    "my_list.insert(1, \"blueberry\")\n",
    "print(my_list)\n",
    "\n",
    "# pop() : removes and returns the item at the given position, default is the last item\n",
    "item = my_list.pop()\n",
    "print(\"Popped item: \", item)\n",
    "\n",
    "item = my_list.pop(1)\n",
    "print(\"Popped item from 1: \", item)\n",
    "\n",
    "\n",
    "# remove() : removes an item from the list\n",
    "my_list.remove(\"cherry\") # Value error if not in the list\n",
    "print(my_list)\n",
    "\n",
    "# clear() : removes all items from the list\n",
    "my_list.clear()\n",
    "print(my_list)\n",
    "\n"
   ]
  },
  {
   "cell_type": "code",
   "execution_count": 44,
   "metadata": {},
   "outputs": [
    {
     "data": {
      "text/plain": [
       "['banana', 'cherry', 'apple', 'orange', 'banana', 'cherry', 'apple', 'orange']"
      ]
     },
     "execution_count": 44,
     "metadata": {},
     "output_type": "execute_result"
    }
   ],
   "source": [
    "# Extend the list by appending all the items from the iterable\n",
    "my_list=['banana', 'cherry', 'apple', 'orange']\n",
    "my_list.extend(['banana', 'cherry', 'apple', 'orange'])\n",
    "my_list"
   ]
  },
  {
   "cell_type": "code",
   "execution_count": 45,
   "metadata": {},
   "outputs": [
    {
     "data": {
      "text/plain": [
       "2"
      ]
     },
     "execution_count": 45,
     "metadata": {},
     "output_type": "execute_result"
    }
   ],
   "source": [
    "#Return the number of times x appears in the list.\n",
    "my_list.count('banana')"
   ]
  },
  {
   "cell_type": "code",
   "execution_count": 31,
   "metadata": {},
   "outputs": [
    {
     "name": "stdout",
     "output_type": "stream",
     "text": [
      "Reversed:  ['apple', 'cherry', 'banana']\n",
      "Sorted :  ['apple', 'banana', 'cherry']\n",
      "[0, 0, 0, 0, 0]\n",
      "[0, 0, 0, 0, 0, 'banana', 'cherry', 'apple']\n",
      "['H', 'e', 'l', 'l', 'o']\n"
     ]
    }
   ],
   "source": [
    "# reverse() : reverse the items\n",
    "my_list = [\"banana\", \"cherry\", \"apple\"]\n",
    "my_list.reverse()\n",
    "print('Reversed: ', my_list)\n",
    "\n",
    "my_list.sort()\n",
    "print(\"Sorted : \", my_list)\n",
    "\n",
    "# use sorted() to get a new list, and leave the original unaffected.\n",
    "# sorted() works on any iterable type, not just lists\n",
    "my_list = [\"banana\", \"cherry\", \"apple\"]\n",
    "new_list = sorted(my_list)\n",
    "\n",
    "# create list with repeated elements\n",
    "list_with_zeros=[0]*5\n",
    "print(list_with_zeros)\n",
    "\n",
    "## concatenation\n",
    "list_concat = list_with_zeros + my_list\n",
    "print(list_concat)\n",
    "\n",
    "\n",
    "# convert string to list\n",
    "string_to_list = list('Hello')\n",
    "print(string_to_list)\n"
   ]
  },
  {
   "cell_type": "code",
   "execution_count": 115,
   "metadata": {},
   "outputs": [
    {
     "data": {
      "text/plain": [
       "2"
      ]
     },
     "execution_count": 115,
     "metadata": {},
     "output_type": "execute_result"
    }
   ],
   "source": [
    "string_to_list.index('l')"
   ]
  },
  {
   "cell_type": "markdown",
   "metadata": {},
   "source": [
    "#### Copy a list\n",
    "\n",
    "Be careful when copying references.\n",
    "\n"
   ]
  },
  {
   "cell_type": "code",
   "execution_count": 32,
   "metadata": {},
   "outputs": [
    {
     "name": "stdout",
     "output_type": "stream",
     "text": [
      "['banana', 'cherry', 'apple', True]\n",
      "['banana', 'cherry', 'apple', True]\n",
      "['banana', 'cherry', 'apple', True]\n",
      "['banana', 'cherry', 'apple']\n"
     ]
    }
   ],
   "source": [
    "list_org = [\"banana\", \"cherry\", \"apple\"]\n",
    "\n",
    "# this just copies the reference to the list, so be careful\n",
    "list_copy = list_org\n",
    "\n",
    "# now modifying the copy also affects the original\n",
    "list_copy.append(True)\n",
    "print(list_copy)\n",
    "print(list_org)\n",
    "\n",
    "# use copy(), or list(x) to actually copy the list\n",
    "# slicing also works: list_copy = list_org[:]\n",
    "list_org = [\"banana\", \"cherry\", \"apple\"]\n",
    "\n",
    "list_copy = list_org.copy()\n",
    "# list_copy = list(list_org)\n",
    "# list_copy = list_org[:]\n",
    "\n",
    "# now modifying the copy does not affect the original\n",
    "list_copy.append(True)\n",
    "print(list_copy)\n",
    "print(list_org)\n"
   ]
  },
  {
   "cell_type": "markdown",
   "metadata": {},
   "source": [
    "Iterating"
   ]
  },
  {
   "cell_type": "code",
   "execution_count": 33,
   "metadata": {},
   "outputs": [
    {
     "name": "stdout",
     "output_type": "stream",
     "text": [
      "banana\n",
      "cherry\n",
      "apple\n"
     ]
    }
   ],
   "source": [
    "for i in list_org:\n",
    "    print(i)"
   ]
  },
  {
   "cell_type": "markdown",
   "metadata": {},
   "source": [
    "#### Check if an item exists"
   ]
  },
  {
   "cell_type": "code",
   "execution_count": 35,
   "metadata": {},
   "outputs": [
    {
     "name": "stdout",
     "output_type": "stream",
     "text": [
      "yes\n"
     ]
    }
   ],
   "source": [
    "if \"banana\" in list_org:\n",
    "    print(\"yes\")\n",
    "else:\n",
    "    print(\"no\")"
   ]
  },
  {
   "cell_type": "markdown",
   "metadata": {},
   "source": [
    "#### Slicing\n",
    "\n",
    "Access sub parts of the list wih the use of colon (:), just as with strings."
   ]
  },
  {
   "cell_type": "code",
   "execution_count": 37,
   "metadata": {},
   "outputs": [
    {
     "name": "stdout",
     "output_type": "stream",
     "text": [
      "[2, 3]\n",
      "[3, 4, 5, 6, 7, 8, 9, 10]\n",
      "[1, 2, 3]\n",
      "[0, 4, 5, 6, 7, 8, 9, 10]\n",
      "[0, 5, 7, 9]\n",
      "[10, 9, 8, 7, 6, 5, 4, 0]\n",
      "[10, 9, 8, 7, 6, 5, 4, 0]\n"
     ]
    }
   ],
   "source": [
    "# a[start:stop:step], default step is 1\n",
    "a = [1, 2, 3, 4, 5, 6, 7, 8, 9, 10]\n",
    "b = a[1:3] # Note that the last index is not included\n",
    "print(b)\n",
    "b = a[2:] # until the end\n",
    "print(b)\n",
    "b = a[:3] # from beginning\n",
    "print(b)\n",
    "a[0:3] = [0] # replace sub-parts, you need an iterable here\n",
    "print(a)\n",
    "b = a[::2] # start to end with every second item\n",
    "print(b)\n",
    "a = a[::-1] # reverse the list with a negative step:\n",
    "print(a)\n",
    "b = a[:] # copy a list with slicing\n",
    "print(b)"
   ]
  },
  {
   "cell_type": "markdown",
   "metadata": {},
   "source": [
    "#### List comprehension\n",
    "\n",
    "1. A elegant and fast way to create a new list from an existing list.\n",
    "3. List comprehensions provide a concise way to create lists\n",
    "2. List comprehension consists of an expression followed by a for statement inside square brackets.\n",
    "\n",
    "\n",
    "\n"
   ]
  },
  {
   "cell_type": "code",
   "execution_count": 38,
   "metadata": {},
   "outputs": [
    {
     "name": "stdout",
     "output_type": "stream",
     "text": [
      "[2, 4, 6, 8, 10, 12, 14, 16]\n"
     ]
    }
   ],
   "source": [
    "# create a new list with the values doubled\n",
    "a = [1, 2, 3, 4, 5, 6, 7, 8]\n",
    "b=[ i*2 for i in a]\n",
    "print(b)"
   ]
  },
  {
   "cell_type": "markdown",
   "metadata": {},
   "source": [
    "#### Exercise on list Comprehension\n",
    "my_list = [-6,-5,-3,-1, 0, 2, 4,9,8]\n",
    "\n",
    "freshfruit = ['  banana', '  loganberry ', 'passion fruit  '] \n",
    "1. filter the list to exclude negative numbers\n",
    "2. apply abs() function to all the elements\n",
    "3. call strip() method on each element of freshfruit\n",
    "4. create a list of 2-tuples like (number, square)\n",
    "5. flatten a list using a listcomp with two 'for'"
   ]
  },
  {
   "cell_type": "markdown",
   "metadata": {},
   "source": [
    "#### Solution"
   ]
  },
  {
   "cell_type": "code",
   "execution_count": 67,
   "metadata": {},
   "outputs": [],
   "source": [
    "freshfruit = ['  banana', '  loganberry ', 'passion fruit  ']\n",
    "my_list = [-6,-5,-3,-1, 0, 2, 4,9,8]"
   ]
  },
  {
   "cell_type": "code",
   "execution_count": 68,
   "metadata": {},
   "outputs": [
    {
     "data": {
      "text/plain": [
       "[0, 2, 4, 9, 8]"
      ]
     },
     "execution_count": 68,
     "metadata": {},
     "output_type": "execute_result"
    }
   ],
   "source": [
    "# filter the list to exclude negative numbers\n",
    "[ i for i in my_list if i>=0]"
   ]
  },
  {
   "cell_type": "code",
   "execution_count": 69,
   "metadata": {},
   "outputs": [
    {
     "data": {
      "text/plain": [
       "[6, 5, 3, 1, 0, 2, 4, 9, 8]"
      ]
     },
     "execution_count": 69,
     "metadata": {},
     "output_type": "execute_result"
    }
   ],
   "source": [
    "#apply abs() function to all the elements\n",
    "[ abs(i) for i in my_list]"
   ]
  },
  {
   "cell_type": "code",
   "execution_count": 70,
   "metadata": {},
   "outputs": [
    {
     "data": {
      "text/plain": [
       "['banana', 'loganberry', 'passion fruit']"
      ]
     },
     "execution_count": 70,
     "metadata": {},
     "output_type": "execute_result"
    }
   ],
   "source": [
    "#call strip() method on each element of freshfruit\n",
    "[ i.strip() for i in freshfruit]"
   ]
  },
  {
   "cell_type": "code",
   "execution_count": 118,
   "metadata": {},
   "outputs": [
    {
     "data": {
      "text/plain": [
       "[(-6, -12),\n",
       " (-5, -10),\n",
       " (-3, -6),\n",
       " (-1, -2),\n",
       " (0, 0),\n",
       " (2, 4),\n",
       " (4, 8),\n",
       " (9, 18),\n",
       " (8, 16)]"
      ]
     },
     "execution_count": 118,
     "metadata": {},
     "output_type": "execute_result"
    }
   ],
   "source": [
    " #create a list of 2-tuples like (number, square)\n",
    "[(i , i*2) for i in my_list]"
   ]
  },
  {
   "cell_type": "code",
   "execution_count": 80,
   "metadata": {},
   "outputs": [
    {
     "data": {
      "text/plain": [
       "[1, 2, 3, 5, 6, 7]"
      ]
     },
     "execution_count": 80,
     "metadata": {},
     "output_type": "execute_result"
    }
   ],
   "source": [
    "#flatten a list using a listcomp with two 'for'\n",
    "\n",
    "my_list2=[[1,2,3], [5,6,7]]\n",
    "# [ j for i in my_list2 for j in i]\n",
    "[ j for i in my_list2 for j in i   ]"
   ]
  },
  {
   "cell_type": "code",
   "execution_count": 81,
   "metadata": {},
   "outputs": [],
   "source": [
    "#The following list comprehension will transpose rows and columns\n",
    "matrix = [\n",
    "    [1, 2, 3, 4],\n",
    "    [5, 6, 7, 8],\n",
    "    [9, 10, 11, 12],\n",
    "]\n",
    "t=[\n",
    "    [1,5,9],\n",
    "    [2,6,10],\n",
    "    [3,7,11],\n",
    "    [4,8,12]\n",
    "]\n"
   ]
  },
  {
   "cell_type": "code",
   "execution_count": 87,
   "metadata": {},
   "outputs": [
    {
     "data": {
      "text/plain": [
       "[[1, 5, 9], [2, 6, 10], [3, 7, 11], [4, 8, 12]]"
      ]
     },
     "execution_count": 87,
     "metadata": {},
     "output_type": "execute_result"
    }
   ],
   "source": [
    "# [[row[i] for row in matrix] for i in range(4)]\n",
    "# [ [row[0] for row in matrix] ]\n",
    "[ [row[i] for row in matrix] for i in range(4) ]\n"
   ]
  },
  {
   "cell_type": "markdown",
   "metadata": {},
   "source": [
    "#### Nested lists\n",
    "\n",
    "Lists can contain other lists (or other container types).\n",
    "\n"
   ]
  },
  {
   "cell_type": "code",
   "execution_count": 40,
   "metadata": {},
   "outputs": [
    {
     "name": "stdout",
     "output_type": "stream",
     "text": [
      "[[1, 2], [3, 4]]\n",
      "[1, 2]\n",
      "2\n"
     ]
    }
   ],
   "source": [
    "a=[[1,2],[3,4]]\n",
    "print(a)\n",
    "print(a[0])\n",
    "print(a[0][1])"
   ]
  },
  {
   "cell_type": "markdown",
   "metadata": {},
   "source": [
    "#### The del statement\n",
    "There is a way to remove an item from a list given its index instead of its value: the del statement. The del statement can also be used to remove slices from a list or clear the entire list."
   ]
  },
  {
   "cell_type": "code",
   "execution_count": 63,
   "metadata": {},
   "outputs": [
    {
     "name": "stdout",
     "output_type": "stream",
     "text": [
      "[3, 4, 5, 7, 0]\n",
      "[3, 7, 0]\n",
      "[]\n"
     ]
    }
   ],
   "source": [
    "list_num=[3,4,5,6,7,0]\n",
    "del list_num[3]\n",
    "print(list_num)\n",
    "\n",
    "del list_num[1:3]\n",
    "print(list_num)\n",
    "\n",
    "del list_num[:]\n",
    "print(list_num)"
   ]
  },
  {
   "cell_type": "code",
   "execution_count": 64,
   "metadata": {},
   "outputs": [
    {
     "name": "stdout",
     "output_type": "stream",
     "text": [
      "[]\n"
     ]
    }
   ],
   "source": [
    "#del can also be used to delete entire variables:\n",
    "print(list_num)"
   ]
  },
  {
   "cell_type": "code",
   "execution_count": 65,
   "metadata": {},
   "outputs": [
    {
     "ename": "NameError",
     "evalue": "name 'list_num' is not defined",
     "output_type": "error",
     "traceback": [
      "\u001b[0;31m---------------------------------------------------------------------------\u001b[0m",
      "\u001b[0;31mNameError\u001b[0m                                 Traceback (most recent call last)",
      "Cell \u001b[0;32mIn[65], line 4\u001b[0m\n\u001b[1;32m      1\u001b[0m \u001b[38;5;66;03m#Referencing the name a hereafter is an error\u001b[39;00m\n\u001b[1;32m      2\u001b[0m \u001b[38;5;28;01mdel\u001b[39;00m list_num\n\u001b[0;32m----> 4\u001b[0m \u001b[38;5;28mprint\u001b[39m(\u001b[43mlist_num\u001b[49m)\n",
      "\u001b[0;31mNameError\u001b[0m: name 'list_num' is not defined"
     ]
    }
   ],
   "source": [
    "#Referencing the name a hereafter is an error\n",
    "del list_num\n",
    "\n",
    "print(list_num)"
   ]
  },
  {
   "cell_type": "markdown",
   "metadata": {},
   "source": [
    "### Exercise"
   ]
  },
  {
   "cell_type": "markdown",
   "metadata": {},
   "source": [
    "#### Exercise 1: Basic List Operations\n",
    "\n",
    "Task: Create a list of your favorite fruits with at least 5 different fruits. \n",
    "\n",
    "Then, perform the following operations:\n",
    "\n",
    "\t1.\tPrint the entire list.\n",
    "\t2.\tPrint the first and last fruit using indexing.\n",
    "\t3.\tChange the second fruit in the list to a different fruit.\n",
    "\t4.\tAdd a new fruit to the end of the list.\n",
    "\t5.\tRemove the third fruit from the list."
   ]
  },
  {
   "cell_type": "code",
   "execution_count": 122,
   "metadata": {},
   "outputs": [
    {
     "name": "stdout",
     "output_type": "stream",
     "text": [
      "['apple', 'banana', 'mango', 'orange', 'grape']\n",
      "apple\n",
      "grape\n"
     ]
    }
   ],
   "source": [
    "favorite_fruits = [\"apple\", \"banana\", \"mango\", \"orange\", \"grape\"]\n",
    "print(favorite_fruits)\n",
    "\n",
    "\n",
    "print(favorite_fruits[0])\n",
    "print(favorite_fruits[-1])\n"
   ]
  },
  {
   "cell_type": "markdown",
   "metadata": {},
   "source": [
    "##### Solution"
   ]
  },
  {
   "cell_type": "code",
   "execution_count": 123,
   "metadata": {},
   "outputs": [
    {
     "name": "stdout",
     "output_type": "stream",
     "text": [
      "My favorite fruits are: ['apple', 'banana', 'mango', 'orange', 'grape']\n",
      "First fruit: apple\n",
      "Last fruit: grape\n",
      "After changing the second fruit: ['apple', 'strawberry', 'mango', 'orange', 'grape']\n",
      "After adding a new fruit: ['apple', 'strawberry', 'mango', 'orange', 'grape', 'pineapple']\n",
      "After removing the third fruit: ['apple', 'strawberry', 'orange', 'grape', 'pineapple']\n"
     ]
    }
   ],
   "source": [
    "# 1. Create a list of favorite fruits\n",
    "favorite_fruits = [\"apple\", \"banana\", \"mango\", \"orange\", \"grape\"]\n",
    "\n",
    "# 2. Print the entire list\n",
    "print(\"My favorite fruits are:\", favorite_fruits)\n",
    "\n",
    "# 3. Print the first and last fruit using indexing\n",
    "print(\"First fruit:\", favorite_fruits[0])\n",
    "print(\"Last fruit:\", favorite_fruits[-1])\n",
    "\n",
    "# 4. Change the second fruit in the list to a different fruit\n",
    "favorite_fruits[1] = \"strawberry\"\n",
    "print(\"After changing the second fruit:\", favorite_fruits)\n",
    "\n",
    "# 5. Add a new fruit to the end of the list\n",
    "favorite_fruits.append(\"pineapple\")\n",
    "print(\"After adding a new fruit:\", favorite_fruits)\n",
    "\n",
    "# 6. Remove the third fruit from the list\n",
    "favorite_fruits.pop(2)\n",
    "print(\"After removing the third fruit:\", favorite_fruits)"
   ]
  },
  {
   "cell_type": "markdown",
   "metadata": {},
   "source": [
    "#### Exercise 2: List Comprehension\n",
    "\n",
    "Task: Use list comprehension to create a list of squares for numbers from 1 to 10. Then, filter the list to include only squares that are greater than 20."
   ]
  },
  {
   "cell_type": "markdown",
   "metadata": {},
   "source": [
    "##### Solution"
   ]
  },
  {
   "cell_type": "code",
   "execution_count": 125,
   "metadata": {},
   "outputs": [
    {
     "name": "stdout",
     "output_type": "stream",
     "text": [
      "Squares of numbers from 1 to 10: [0, 1, 4, 9, 16, 25, 36, 49, 64, 81, 100]\n",
      "Squares greater than 20: [25, 36, 49, 64, 81, 100]\n"
     ]
    }
   ],
   "source": [
    "# 1. Create a list of squares from 1 to 10 using list comprehension\n",
    "squares = [x**2 for x in range(1, 11)]\n",
    "print(\"Squares of numbers from 1 to 10:\", squares)\n",
    "\n",
    "# 2. Filter the list to include only squares greater than 20\n",
    "squares_greater_than_20 = [x for x in squares if x > 20]\n",
    "print(\"Squares greater than 20:\", squares_greater_than_20)"
   ]
  },
  {
   "cell_type": "markdown",
   "metadata": {},
   "source": [
    "#### Exercise 3: Working with Nested Lists\n",
    "\n",
    "Task: Create a list of lists (nested lists) representing the following table of data:\n",
    "     \n",
    "\tName     age       city\n",
    "\tAlice    30       New York\n",
    "    Bob       25      Los Angeles\n",
    "    Charlie   35      Chicago\n",
    "\n",
    "Then, perform the following operations:\n",
    "\n",
    "\t1.\tPrint the entire list.\n",
    "\t2.\tPrint the age of Bob.\n",
    "\t3.\tAdd a new row for a person named “David”, aged 28, living in “San Francisco”.\n",
    "\t4.\tChange Charlie’s city to “Houston”."
   ]
  },
  {
   "cell_type": "markdown",
   "metadata": {},
   "source": [
    "##### Solution"
   ]
  },
  {
   "cell_type": "code",
   "execution_count": 117,
   "metadata": {},
   "outputs": [
    {
     "name": "stdout",
     "output_type": "stream",
     "text": [
      "People data: [['Alice', 30, 'New York'], ['Bob', 25, 'Los Angeles'], ['Charlie', 35, 'Chicago']]\n",
      "Bob's age: 25\n",
      "After adding David: [['Alice', 30, 'New York'], ['Bob', 25, 'Los Angeles'], ['Charlie', 35, 'Chicago'], ['David', 28, 'San Francisco']]\n",
      "After changing Charlie's city: [['Alice', 30, 'New York'], ['Bob', 25, 'Los Angeles'], ['Charlie', 35, 'Houston'], ['David', 28, 'San Francisco']]\n"
     ]
    }
   ],
   "source": [
    "# 1. Create a list of lists\n",
    "people = [\n",
    "    [\"Alice\", 30, \"New York\"],\n",
    "    [\"Bob\", 25, \"Los Angeles\"],\n",
    "    [\"Charlie\", 35, \"Chicago\"]\n",
    "]\n",
    "\n",
    "# 2. Print the entire list\n",
    "print(\"People data:\", people)\n",
    "\n",
    "# 3. Print the age of Bob\n",
    "print(\"Bob's age:\", people[1][1])\n",
    "\n",
    "# 4. Add a new row for David\n",
    "people.append([\"David\", 28, \"San Francisco\"])\n",
    "print(\"After adding David:\", people)\n",
    "\n",
    "# 5. Change Charlie's city to Houston\n",
    "people[2][2] = \"Houston\"\n",
    "print(\"After changing Charlie's city:\", people)"
   ]
  },
  {
   "cell_type": "markdown",
   "metadata": {},
   "source": [
    "#### Exercise 4: Counting Elements in a List\n",
    "\n",
    "Task: Given a list of numbers, count how many times each number appears in the list."
   ]
  },
  {
   "cell_type": "markdown",
   "metadata": {},
   "source": [
    "##### Solution"
   ]
  },
  {
   "cell_type": "code",
   "execution_count": 126,
   "metadata": {},
   "outputs": [
    {
     "name": "stdout",
     "output_type": "stream",
     "text": [
      "Number counts: {1: 1, 2: 2, 3: 3, 4: 4}\n"
     ]
    }
   ],
   "source": [
    "# Input list of numbers\n",
    "numbers = [1, 2, 2, 3, 3, 3, 4, 4, 4, 4]\n",
    "\n",
    "# Solution using a dictionary to count occurrences\n",
    "count_dict = {}\n",
    "for number in numbers:\n",
    "    if number in count_dict:\n",
    "        count_dict[number] += 1\n",
    "    else:\n",
    "        count_dict[number] = 1\n",
    "\n",
    "print(\"Number counts:\", count_dict)"
   ]
  },
  {
   "cell_type": "markdown",
   "metadata": {},
   "source": [
    "#### Exercise 5: Reversing a List\n",
    "\n",
    "Task: Write a Python function that takes a list as input and returns the list in reverse order without using the built-in reverse() method."
   ]
  },
  {
   "cell_type": "markdown",
   "metadata": {},
   "source": [
    "##### Solution"
   ]
  },
  {
   "cell_type": "code",
   "execution_count": 127,
   "metadata": {},
   "outputs": [
    {
     "name": "stdout",
     "output_type": "stream",
     "text": [
      "Original list: [1, 2, 3, 4, 5]\n",
      "Reversed list: [5, 4, 3, 2, 1]\n"
     ]
    }
   ],
   "source": [
    "# Function to reverse a list\n",
    "def reverse_list(lst):\n",
    "    reversed_list = []\n",
    "    for item in lst:\n",
    "        reversed_list.insert(0, item)\n",
    "    return reversed_list\n",
    "\n",
    "# Test the function\n",
    "original_list = [1, 2, 3, 4, 5]\n",
    "reversed_list = reverse_list(original_list)\n",
    "print(\"Original list:\", original_list)\n",
    "print(\"Reversed list:\", reversed_list)"
   ]
  },
  {
   "cell_type": "markdown",
   "metadata": {},
   "source": [
    "### Conclusion\n",
    "\n",
    "Practicing with these exercises will help you understand how to work with lists in Python more effectively. As you get more comfortable, try to come up with your own list-related problems and solve them."
   ]
  }
 ],
 "metadata": {
  "kernelspec": {
   "display_name": "Python 3.12.3 64-bit",
   "language": "python",
   "name": "python3"
  },
  "language_info": {
   "codemirror_mode": {
    "name": "ipython",
    "version": 3
   },
   "file_extension": ".py",
   "mimetype": "text/x-python",
   "name": "python",
   "nbconvert_exporter": "python",
   "pygments_lexer": "ipython3",
   "version": "3.12.3"
  },
  "orig_nbformat": 4,
  "vscode": {
   "interpreter": {
    "hash": "aee8b7b246df8f9039afb4144a1f6fd8d2ca17a180786b69acc140d282b71a49"
   }
  }
 },
 "nbformat": 4,
 "nbformat_minor": 2
}
