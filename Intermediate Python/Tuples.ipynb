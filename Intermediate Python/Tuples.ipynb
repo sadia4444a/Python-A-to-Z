{
 "cells": [
  {
   "cell_type": "markdown",
   "metadata": {},
   "source": [
    "### Tuple\n",
    "\n",
    "1. A tuple is a collection of items that is ordered and immutable (cannot be changed). \n",
    "2. Tuples are similar to lists, the main difference ist the immutability. \n",
    "3. In Python tuples are written with round brackets () and comma separated values.like \n",
    "t = (12345, 54321, 'hello!') or t = 12345, 54321, 'hello!'\n",
    "\n",
    "#### Why Use Tuples?\n",
    "1. Immutability: Once created, the elements of a tuple cannot be modified. This makes tuples suitable for read-only data that shouldn’t be changed throughout the program.\n",
    "2. \tFaster than lists: Since tuples are immutable, they can be optimized for performance and are generally faster than lists for reading and accessing data.\n",
    "3.\tUsed as keys in dictionaries: Because tuples are immutable, they can be used as keys in dictionaries, unlike lists.\n",
    "4. If you have data that doesn't change, implementing it as tuple will guarantee that it remains write-protected.\n",
    "\n"
   ]
  },
  {
   "cell_type": "markdown",
   "metadata": {},
   "source": [
    "#### Create a tuple\n",
    "\n",
    "Tuples are created with round brackets and comma separated values. Or use the built-in tuple function."
   ]
  },
  {
   "cell_type": "code",
   "execution_count": 21,
   "metadata": {},
   "outputs": [
    {
     "name": "stdout",
     "output_type": "stream",
     "text": [
      "('Max', 28, 'New York')\n",
      "('Linda', 25, 'Miami')\n",
      "(25,)\n",
      "(1, 2, 3)\n",
      "([1, 2, 3], [5, 6, 7])\n"
     ]
    }
   ],
   "source": [
    "tuple_1 = (\"Max\", 28, \"New York\")\n",
    "tuple_2 = \"Linda\", 25, \"Miami\" # Parentheses are optional\n",
    "\n",
    "# Special case: a tuple with only one element needs to have a comma at the end, \n",
    "# otherwise it is not recognized as tuple\n",
    "tuple_3 = (25,)\n",
    "print(tuple_1)\n",
    "print(tuple_2)\n",
    "print(tuple_3)\n",
    "\n",
    "\n",
    "\n",
    "# Or convert an iterable (list, dict, string) with the built-in tuple function\n",
    "tuple_4 = tuple([1,2,3])\n",
    "print(tuple_4)\n",
    "\n",
    "tuple_5=([1,2,3], [5,6,7])\n",
    "print(tuple_5)\n"
   ]
  },
  {
   "cell_type": "markdown",
   "metadata": {},
   "source": [
    "#### Access elements\n",
    "\n",
    "You access the tuple items by referring to the index number. Note that the indices start at 0."
   ]
  },
  {
   "cell_type": "code",
   "execution_count": 22,
   "metadata": {},
   "outputs": [
    {
     "name": "stdout",
     "output_type": "stream",
     "text": [
      "Max\n",
      "New York\n"
     ]
    }
   ],
   "source": [
    "item=tuple_1[0]\n",
    "print(item)\n",
    "# You can also use negative indexing, e.g -1 refers to the last item,\n",
    "# -2 to the second last item, and so on\n",
    "item=tuple_1[-1]\n",
    "print(item)"
   ]
  },
  {
   "cell_type": "markdown",
   "metadata": {},
   "source": [
    "#### Add or change items\n",
    "\n",
    "Not possible and will raise a TypeError."
   ]
  },
  {
   "cell_type": "code",
   "execution_count": 23,
   "metadata": {},
   "outputs": [
    {
     "ename": "TypeError",
     "evalue": "'tuple' object does not support item assignment",
     "output_type": "error",
     "traceback": [
      "\u001b[0;31m---------------------------------------------------------------------------\u001b[0m",
      "\u001b[0;31mTypeError\u001b[0m                                 Traceback (most recent call last)",
      "Cell \u001b[0;32mIn[23], line 1\u001b[0m\n\u001b[0;32m----> 1\u001b[0m \u001b[43mtuple_1\u001b[49m\u001b[43m[\u001b[49m\u001b[38;5;241;43m2\u001b[39;49m\u001b[43m]\u001b[49m\u001b[38;5;241m=\u001b[39m\u001b[38;5;124m'\u001b[39m\u001b[38;5;124mBoston\u001b[39m\u001b[38;5;124m'\u001b[39m\n",
      "\u001b[0;31mTypeError\u001b[0m: 'tuple' object does not support item assignment"
     ]
    }
   ],
   "source": [
    "tuple_1[2]='Boston'"
   ]
  },
  {
   "cell_type": "code",
   "execution_count": null,
   "metadata": {},
   "outputs": [
    {
     "name": "stdout",
     "output_type": "stream",
     "text": [
      "(['Max', 28, 'Boston'],)\n"
     ]
    }
   ],
   "source": [
    "# but they can contain mutable objects:\n",
    "tuple_5 = ([\"Max\", 28, \"New York\"], ) \n",
    "\n",
    "\n",
    "tuple_5[0][2]='Boston'\n",
    "print(tuple_5)"
   ]
  },
  {
   "cell_type": "markdown",
   "metadata": {},
   "source": [
    "#### Delete a tuple"
   ]
  },
  {
   "cell_type": "code",
   "execution_count": null,
   "metadata": {},
   "outputs": [],
   "source": [
    "del tuple_5"
   ]
  },
  {
   "cell_type": "markdown",
   "metadata": {},
   "source": [
    "#### Iterating"
   ]
  },
  {
   "cell_type": "code",
   "execution_count": null,
   "metadata": {},
   "outputs": [
    {
     "name": "stdout",
     "output_type": "stream",
     "text": [
      "Max\n",
      "28\n",
      "New York\n"
     ]
    }
   ],
   "source": [
    "# Iterating over a tuple by using a for in loop\n",
    "for i in tuple_1:\n",
    "    print(i)\n"
   ]
  },
  {
   "cell_type": "markdown",
   "metadata": {},
   "source": [
    "#### Check if an item exists"
   ]
  },
  {
   "cell_type": "code",
   "execution_count": null,
   "metadata": {},
   "outputs": [
    {
     "name": "stdout",
     "output_type": "stream",
     "text": [
      "yes\n"
     ]
    }
   ],
   "source": [
    "if \"New York\" in tuple_1:\n",
    "    print(\"yes\")\n",
    "else:\n",
    "    print(\"no\")"
   ]
  },
  {
   "cell_type": "markdown",
   "metadata": {},
   "source": [
    "#### Useful Methods"
   ]
  },
  {
   "cell_type": "code",
   "execution_count": null,
   "metadata": {},
   "outputs": [
    {
     "name": "stdout",
     "output_type": "stream",
     "text": [
      "5\n",
      "2\n",
      "3\n",
      "('a', 'b', 'a', 'b', 'a', 'b', 'a', 'b', 'a', 'b')\n",
      "(1, 2, 3, 4, 5, 6)\n",
      "('a', 'b', 'c', 'd')\n",
      "['a', 'b', 'c', 'd']\n",
      "('H', 'e', 'l', 'l', 'o')\n"
     ]
    }
   ],
   "source": [
    "my_tuple = ('a','p','p','l','e',)\n",
    "\n",
    "# len() : get the number of elements in a tuple\n",
    "print(len(my_tuple))\n",
    "\n",
    "# count(x) : Return the number of items that is equal to x\n",
    "print(my_tuple.count('p'))\n",
    "\n",
    "# index(x) : Return index of first item that is equal to x\n",
    "print(my_tuple.index('l'))\n",
    "\n",
    "# repetition\n",
    "my_tuple = ('a', 'b') * 5\n",
    "print(my_tuple)\n",
    "\n",
    "# concatenation\n",
    "my_tuple = (1,2,3) + (4,5,6)\n",
    "print(my_tuple)\n",
    "\n",
    "# convert list to a tuple and vice versa\n",
    "my_list = ['a', 'b', 'c', 'd']\n",
    "list_to_tuple = tuple(my_list)\n",
    "print(list_to_tuple)\n",
    "\n",
    "tuple_to_list = list(list_to_tuple)\n",
    "print(tuple_to_list)\n",
    "\n",
    "# convert string to tuple\n",
    "string_to_tuple = tuple('Hello')\n",
    "print(string_to_tuple)"
   ]
  },
  {
   "cell_type": "markdown",
   "metadata": {},
   "source": [
    "#### Slicing\n",
    "\n",
    "Access sub parts of the tuple wih the use of colon (:), just as with strings."
   ]
  },
  {
   "cell_type": "code",
   "execution_count": null,
   "metadata": {},
   "outputs": [
    {
     "name": "stdout",
     "output_type": "stream",
     "text": [
      "(2, 3)\n",
      "(3, 4, 5, 6, 7, 8, 9, 10)\n",
      "(1, 2, 3)\n",
      "(1, 3, 5, 7, 9)\n",
      "(10, 9, 8, 7, 6, 5, 4, 3, 2, 1)\n"
     ]
    }
   ],
   "source": [
    "# a[start:stop:step], default step is 1\n",
    "a = (1, 2, 3, 4, 5, 6, 7, 8, 9, 10)\n",
    "b = a[1:3] # Note that the last index is not included\n",
    "print(b)\n",
    "b = a[2:] # until the end\n",
    "print(b)\n",
    "b = a[:3] # from beginning\n",
    "print(b)\n",
    "b = a[::2] # start to end with every second item\n",
    "print(b)\n",
    "b = a[::-1] # reverse tuple\n",
    "print(b)\n"
   ]
  },
  {
   "cell_type": "markdown",
   "metadata": {},
   "source": [
    "#### Unpack tuple\n"
   ]
  },
  {
   "cell_type": "code",
   "execution_count": null,
   "metadata": {},
   "outputs": [
    {
     "name": "stdout",
     "output_type": "stream",
     "text": [
      "Max\n",
      "28\n",
      "New York\n",
      "0\n",
      "[1, 2, 3, 4]\n",
      "5\n"
     ]
    }
   ],
   "source": [
    "# number of variables have to match number of tuple elements\n",
    "tuple_1 = (\"Max\", 28, \"New York\")\n",
    "name, age, city = tuple_1\n",
    "print(name)\n",
    "print(age)\n",
    "print(city)\n",
    "\n",
    "# tip: unpack multiple elements to a list with *\n",
    "my_tuple = (0, 1, 2, 3, 4, 5)\n",
    "item_first, *items_between, item_last = my_tuple\n",
    "print(item_first)\n",
    "print(items_between)\n",
    "print(item_last)\n"
   ]
  },
  {
   "cell_type": "markdown",
   "metadata": {},
   "source": [
    "#### Nested tuples\n",
    "\n",
    "Tuples can contain other tuples (or other container types)."
   ]
  },
  {
   "cell_type": "code",
   "execution_count": 24,
   "metadata": {},
   "outputs": [
    {
     "data": {
      "text/plain": [
       "((12345, 54321, 'hello!'), (1, 2, 3, 4, 5))"
      ]
     },
     "execution_count": 24,
     "metadata": {},
     "output_type": "execute_result"
    }
   ],
   "source": [
    "# Tuples may be nested:\n",
    "t = 12345, 54321, 'hello!'\n",
    "u = t, (1, 2, 3, 4, 5)\n",
    "u"
   ]
  },
  {
   "cell_type": "code",
   "execution_count": null,
   "metadata": {},
   "outputs": [
    {
     "name": "stdout",
     "output_type": "stream",
     "text": [
      "((0, 1), ('age', 'height'))\n",
      "(0, 1)\n"
     ]
    }
   ],
   "source": [
    "a = ((0, 1), ('age', 'height'))\n",
    "print(a)\n",
    "print(a[0])\n"
   ]
  },
  {
   "cell_type": "markdown",
   "metadata": {},
   "source": [
    "#### Compare tuple and list\n",
    "\n",
    "The immutability of tuples enables Python to make internal optimizations. Thus, tuples can be more efficient when working with large data.\n",
    "\n"
   ]
  },
  {
   "cell_type": "code",
   "execution_count": 12,
   "metadata": {},
   "outputs": [
    {
     "name": "stdout",
     "output_type": "stream",
     "text": [
      "104 bytes\n",
      "80 bytes\n"
     ]
    }
   ],
   "source": [
    "# compare the size\n",
    "import sys\n",
    "my_list = [0, 1, 2, \"hello\", True]\n",
    "my_tuple = (0, 1, 2, \"hello\", True)\n",
    "print(sys.getsizeof(my_list), \"bytes\")\n",
    "print(sys.getsizeof(my_tuple), \"bytes\")\n"
   ]
  },
  {
   "cell_type": "code",
   "execution_count": 13,
   "metadata": {},
   "outputs": [
    {
     "name": "stdout",
     "output_type": "stream",
     "text": [
      "0.04761783299909439\n",
      "0.004608667004504241\n"
     ]
    }
   ],
   "source": [
    "# compare the execution time of a list vs. tuple creation statement\n",
    "import timeit\n",
    "# Time to create list 1,000,000 times\n",
    "print(timeit.timeit(stmt=\"[0, 1, 2, 3, 4, 5]\", number=1000000))\n",
    "# Time to create tuple 1,000,000 times\n",
    "print(timeit.timeit(stmt=\"(0, 1, 2, 3, 4, 5)\", number=1000000))"
   ]
  },
  {
   "cell_type": "markdown",
   "metadata": {},
   "source": [
    "### Common Mistakes and Important Points to Notice When Using Tuples\n",
    "1. Immutability of Tuples\n",
    "\n",
    "Mistake: Trying to change or modify the elements of a tuple after it is created.\n",
    "\n",
    "2. Single-Element Tuples\n",
    "\n",
    "Mistake: Forgetting to include a comma for single-element tuples.\n",
    "\n",
    "3. Accidentally Creating Tuple of Lists\n",
    "\n",
    "Mistake: Using mutable types like lists inside tuples and then trying to treat the tuple as completely immutable."
   ]
  },
  {
   "cell_type": "code",
   "execution_count": 15,
   "metadata": {},
   "outputs": [
    {
     "name": "stdout",
     "output_type": "stream",
     "text": [
      "(1, [99, 3], 4)\n"
     ]
    }
   ],
   "source": [
    "# A tuple with a list inside\n",
    "my_tuple = (1, [2, 3], 4)\n",
    "\n",
    "# This doesn't raise an error, as the list is mutable\n",
    "my_tuple[1][0] = 99\n",
    "print(my_tuple)  "
   ]
  },
  {
   "cell_type": "markdown",
   "metadata": {},
   "source": [
    "### Exercise"
   ]
  },
  {
   "cell_type": "markdown",
   "metadata": {},
   "source": [
    "#### Exercise 1: Basic Tuple Operations\n",
    "\n",
    "Task: Create a tuple containing five different numbers. Perform the following operations:\n",
    "\n",
    "\t1.\tPrint the entire tuple.\n",
    "\t2.\tPrint the second and fourth elements using indexing.\n",
    "\t3.\tConcatenate the tuple with another tuple containing two more numbers.\n",
    "\t4.\tCheck if the number 5 is present in the tuple."
   ]
  },
  {
   "cell_type": "markdown",
   "metadata": {},
   "source": [
    "##### Solution"
   ]
  },
  {
   "cell_type": "code",
   "execution_count": 16,
   "metadata": {},
   "outputs": [
    {
     "name": "stdout",
     "output_type": "stream",
     "text": [
      "Original tuple: (1, 2, 3, 4, 5)\n",
      "Second element: 2\n",
      "Fourth element: 4\n",
      "Concatenated tuple: (1, 2, 3, 4, 5, 6, 7)\n",
      "True\n"
     ]
    }
   ],
   "source": [
    "# 1. Create a tuple of numbers\n",
    "numbers = (1, 2, 3, 4, 5)\n",
    "\n",
    "# 2. Print the entire tuple\n",
    "print(\"Original tuple:\", numbers)\n",
    "\n",
    "# 3. Print the second and fourth elements\n",
    "print(\"Second element:\", numbers[1])  \n",
    "print(\"Fourth element:\", numbers[3])  \n",
    "\n",
    "# 4. Concatenate with another tuple\n",
    "new_numbers = numbers + (6, 7)\n",
    "print(\"Concatenated tuple:\", new_numbers)  \n",
    "\n",
    "# 5. Check if the number 5 is present\n",
    "print(5 in new_numbers)  "
   ]
  },
  {
   "cell_type": "markdown",
   "metadata": {},
   "source": [
    "#### Exercise 2: Tuple Unpacking\n",
    "\n",
    "Task: Create a tuple representing a book with the following details: title, author, and year of publication. Unpack the tuple into three separate variables and print them."
   ]
  },
  {
   "cell_type": "markdown",
   "metadata": {},
   "source": [
    "##### Solution"
   ]
  },
  {
   "cell_type": "code",
   "execution_count": 17,
   "metadata": {},
   "outputs": [
    {
     "name": "stdout",
     "output_type": "stream",
     "text": [
      "Title: 1984\n",
      "Author: George Orwell\n",
      "Year: 1949\n"
     ]
    }
   ],
   "source": [
    "# 1. Create a tuple for a book\n",
    "book = (\"1984\", \"George Orwell\", 1949)\n",
    "\n",
    "# 2. Unpack the tuple into variables\n",
    "title, author, year = book\n",
    "\n",
    "# 3. Print the details\n",
    "print(\"Title:\", title)   \n",
    "print(\"Author:\", author) \n",
    "print(\"Year:\", year)     "
   ]
  },
  {
   "cell_type": "markdown",
   "metadata": {},
   "source": [
    "#### Exercise 3: Nested Tuples\n",
    "\n",
    "Task: Create a tuple that contains three tuples, each representing a student with the following details: name, age, and grade. Then, access and print the grade of the second student."
   ]
  },
  {
   "cell_type": "markdown",
   "metadata": {},
   "source": [
    "##### Solution"
   ]
  },
  {
   "cell_type": "code",
   "execution_count": 18,
   "metadata": {},
   "outputs": [
    {
     "name": "stdout",
     "output_type": "stream",
     "text": [
      "Grade of the second student: B\n"
     ]
    }
   ],
   "source": [
    "# 1. Create a nested tuple\n",
    "students = (\n",
    "    (\"Alice\", 20, \"A\"),\n",
    "    (\"Bob\", 22, \"B\"),\n",
    "    (\"Charlie\", 23, \"C\")\n",
    ")\n",
    "\n",
    "# 2. Access and print the grade of the second student\n",
    "second_student_grade = students[1][2]\n",
    "print(\"Grade of the second student:\", second_student_grade)"
   ]
  },
  {
   "cell_type": "code",
   "execution_count": null,
   "metadata": {},
   "outputs": [],
   "source": []
  }
 ],
 "metadata": {
  "kernelspec": {
   "display_name": "Python 3.12.3 64-bit",
   "language": "python",
   "name": "python3"
  },
  "language_info": {
   "codemirror_mode": {
    "name": "ipython",
    "version": 3
   },
   "file_extension": ".py",
   "mimetype": "text/x-python",
   "name": "python",
   "nbconvert_exporter": "python",
   "pygments_lexer": "ipython3",
   "version": "3.12.3"
  },
  "orig_nbformat": 4,
  "vscode": {
   "interpreter": {
    "hash": "aee8b7b246df8f9039afb4144a1f6fd8d2ca17a180786b69acc140d282b71a49"
   }
  }
 },
 "nbformat": 4,
 "nbformat_minor": 2
}
